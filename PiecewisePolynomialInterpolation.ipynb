{
 "cells": [
  {
   "cell_type": "markdown",
   "metadata": {},
   "source": [
    "Try this notebook on Binder:\n",
    "[![Binder](https://mybinder.org/badge_logo.svg)](https://mybinder.org/v2/gh/echoi/compgeodyn/master?labpath=PiecewisePolynomialInterpolation.ipynb)"
   ]
  },
  {
   "cell_type": "markdown",
   "metadata": {
    "slideshow": {
     "slide_type": "slide"
    }
   },
   "source": [
    "# Piecewise Polynomial interpolation\n",
    "\n",
    "We closely follow Ch. 8 of Quarteroni (2000) to learn \n",
    "- Polynomial interpolation: Lagrange interpolation\n",
    "- Piecewise Lagrange interpolation"
   ]
  },
  {
   "cell_type": "markdown",
   "metadata": {
    "slideshow": {
     "slide_type": "slide"
    }
   },
   "source": [
    "## Interpolating function\n",
    "We want to approximate a function which is known only through its nodal values:\n",
    "    $n+1$ pairs of data $(x_{i},y_{i})$ are given. Find a function $\\Phi(x_{i})=y_{i}$ for $i$=0,$\\ldots$,n.\n",
    "- We say \"$\\Phi$ interpolates $\\{y_{i}\\}$ at the nodes $\\{x_{i}\\}$.\n",
    "- $y_{i}$'s may represent the values attained at $x_{i}$ by a function $f$. Then, $\\Phi$ will be a simpler function to deal with, especially for differentiation and integration."
   ]
  },
  {
   "cell_type": "code",
   "execution_count": 2,
   "metadata": {
    "slideshow": {
     "slide_type": "subslide"
    },
    "tags": []
   },
   "outputs": [
    {
     "data": {
      "image/png": "[encoded data removed]",
      "text/plain": [
       "<Figure size 432x288 with 1 Axes>"
      ]
     },
     "metadata": {
      "needs_background": "light"
     },
     "output_type": "display_data"
    }
   ],
   "source": [
    "import numpy as np\n",
    "import matplotlib.pyplot as plt\n",
    "\n",
    "def function_f(x):\n",
    "    return np.sin(2.0*np.pi*x) + 4.0*x - 1.0\n",
    "\n",
    "xrange = np.linspace(0.0, 1.0, 101)\n",
    "nodes = np.linspace(0.1, 0.95, 7)\n",
    "nodal_values = function_f(nodes)\n",
    "plt.plot(xrange,function_f(xrange),'k--',linewidth=2,label='Function f')\n",
    "plt.plot(nodes, nodal_values,'o-',markersize=10,linewidth=2,label='Nodes and $\\Phi$')\n",
    "plt.xlabel('x',size=16)\n",
    "plt.ylabel('f',size=16)\n",
    "plt.legend(loc=2)\n",
    "plt.show()"
   ]
  },
  {
   "cell_type": "markdown",
   "metadata": {
    "slideshow": {
     "slide_type": "slide"
    }
   },
   "source": [
    "## Lagrange formula\n",
    "\n",
    "Given $n+1$ pairs $(x_{i},y_{i})$, find a polynomial $\\Pi_{m} \\in \\mathbb{P}_{m}$, called an \"interpolating polynomial\" s.t. $\\Pi_{m}(x_{i}) = a_{m} x_{i}^{m} + \\cdots + a_{1} x_{i} + a_{0} = y_{i}$, $i$=0,$\\ldots$,$n$.\n",
    "\n",
    "- $x_{i}$'s: Interpolation nodes\n",
    "- $n < m$: Underdetermined\n",
    "- $n > m$: Overdetermined\n",
    "\n",
    "When $n=m$, the following result holds:\n"
   ]
  },
  {
   "cell_type": "markdown",
   "metadata": {
    "slideshow": {
     "slide_type": "subslide"
    }
   },
   "source": [
    "**Theorem**: Given $n+1$ distinct points, $x_{0}$, $\\cdots$, $x_{n}$ and $n+1$ corresponding values, $y_{0}$, $\\cdots$, $y_{n}$, there *exists* a *unique* polynomial $\\Pi_{n} \\in \\mathbb{P}_{n}$ s.t. $\\Pi_{n}(x_{i})=y_{i}$ for $i=0,\\cdots,n$.\n",
    "\n",
    "**Proof**: Let $\\{l_{i}\\}_{i=0}^{n}$ be a basis for $\\mathbb{P}_{n}$. $\\Pi_{n}(x) = \\sum_{i=0}^{n} b_{i} l_{i}(x)$ with the property that $\\Pi_{n}(x_{i}) = \\sum_{j=0}^{n} b_{j} l_{j}(x_{i}) = y_{i}$, $i=0,\\cdots,n$. If we define $l_{i} \\in \\mathbb{P}_{n}$ as\n",
    "\\begin{equation}\n",
    "  l_{i}(x) = \\prod_{j=0,\\,j\\neq i}^{n} \\frac{x-x_{j}}{x_{i}-x_{j}}, \\quad i=0,\\cdots,n,\n",
    "\\end{equation}\n",
    "then $l_{i}(x_{j})=\\delta_{ij}$ and therefore $b_{i}=y_{i}$. \n",
    "\n",
    "$l_{i}$ forms a basis for $\\mathbb{P}_{n}$ and the interpolating polynomial $\\Pi_{n}(x)$ exists and is given as $\\Pi_{n}(x) = \\sum_{i=0}^{n} y_{i}\\,l_{i}(x)$, which is called the **Lagrangian form** of the interpolating polynomial."
   ]
  },
  {
   "cell_type": "markdown",
   "metadata": {
    "slideshow": {
     "slide_type": "subslide"
    }
   },
   "source": [
    "**Example**: For $n=6$ and $i=2$,\n",
    "\\begin{equation}\n",
    "l_{2} = \\frac{x-x_{0}}{x_{2}-x_{0}}\\frac{x-x_{1}}{x_{2}-x_{1}}\\frac{x-x_{3}}{x_{2}-x_{3}}\\frac{x-x_{4}}{x_{2}-x_{4}}\\frac{x-x_{5}}{x_{2}-x_{5}}\\frac{x-x_{6}}{x_{2}-x_{6}}.\n",
    "\\end{equation}\n",
    "\n",
    "- $n=2$ and $i=0$?\n",
    "- $n=3$ and $i=3$?"
   ]
  },
  {
   "cell_type": "markdown",
   "metadata": {
    "slideshow": {
     "slide_type": "slide"
    }
   },
   "source": [
    "### Numerical example"
   ]
  },
  {
   "cell_type": "code",
   "execution_count": 2,
   "metadata": {
    "slideshow": {
     "slide_type": "subslide"
    }
   },
   "outputs": [],
   "source": [
    "# define a function that returns the basis function l_i(x)\n",
    "def l_i(i,xdata,x):\n",
    "    \"\"\"\n",
    "       return the value(s) of the 'i'-th basis function\n",
    "       at locations in 'x' array using 'xdata' array.\n",
    "    \"\"\"\n",
    "    n = len(xdata)-1\n",
    "    assert i < n+1, \"Index i out of bounds, {0}\".format(len(xdata)-1)\n",
    "        \n",
    "    # create j index array\n",
    "    jind = np.arange(n+1)\n",
    "    # use mask the j array to skip j equal to i\n",
    "    mask = np.ones(len(jind), dtype=bool)\n",
    "    mask[i] = False\n",
    "    \n",
    "    # create a return value array of the same size with x\n",
    "    value = np.ones(len(x))\n",
    "    for j in jind[mask]: # Note that if j is not i\n",
    "        value = value * (x-xdata[j])/(xdata[i]-xdata[j])\n",
    "        \n",
    "    return value"
   ]
  },
  {
   "cell_type": "code",
   "execution_count": 3,
   "metadata": {
    "slideshow": {
     "slide_type": "subslide"
    }
   },
   "outputs": [],
   "source": [
    "def LagrangeInterp(xdata, ydata, x):\n",
    "    values = np.zeros(len(x))\n",
    "    \n",
    "    for i in range(len(xdata)):\n",
    "        values = values + ydata[i] * l_i(i, xdata, x)\n",
    "        \n",
    "    return values"
   ]
  },
  {
   "cell_type": "code",
   "execution_count": 6,
   "metadata": {
    "slideshow": {
     "slide_type": "subslide"
    }
   },
   "outputs": [
    {
     "data": {
      "image/png": "[encoded data removed]",
      "text/plain": [
       "<Figure size 432x288 with 1 Axes>"
      ]
     },
     "metadata": {
      "needs_background": "light"
     },
     "output_type": "display_data"
    }
   ],
   "source": [
    "# Create data (x_i, y_i) with n = 10\n",
    "n = 8\n",
    "xdata = np.linspace(-np.pi, np.pi, n+1)\n",
    "ydata = np.sin(xdata)\n",
    "\n",
    "x = np.linspace(-np.pi, np.pi, 21)\n",
    "plt.plot(x, np.sin(x), '-', label='true function', linewidth=4)\n",
    "plt.plot(x, LagrangeInterp(xdata, ydata, x), 'o-', label='interpolation')\n",
    "plt.plot(xdata, ydata, 'd', label='data')\n",
    "plt.legend(loc=2)\n",
    "plt.show()"
   ]
  },
  {
   "cell_type": "markdown",
   "metadata": {
    "slideshow": {
     "slide_type": "slide"
    }
   },
   "source": [
    "## Drawback of polynomial interpolation\n",
    "### Runge's counterexample\n",
    "\n",
    "Let's approximate the following function:\n",
    "\\begin{equation}\n",
    "  f(x) = \\frac{1}{1+x^{2}} \\quad -5 \\le x \\le 5\n",
    "\\end{equation}\n",
    "using the Lagrange interpolation on **equally spaced nodes**.\n",
    "\n",
    "The functions in the above example can be used."
   ]
  },
  {
   "cell_type": "code",
   "execution_count": 7,
   "metadata": {
    "slideshow": {
     "slide_type": "subslide"
    }
   },
   "outputs": [
    {
     "name": "stdout",
     "output_type": "stream",
     "text": [
      "[-5. -4. -3. -2. -1.  0.  1.  2.  3.  4.  5.] [0.03846154 0.05882353 0.1        0.2        0.5        1.\n",
      " 0.5        0.2        0.1        0.05882353 0.03846154]\n"
     ]
    }
   ],
   "source": [
    "def runge(x):\n",
    "    return 1.0/(1.0+x**2)\n",
    "\n",
    "# Store interpolation points (x) and the true function values (y)\n",
    "x = np.linspace(-5.0, 5.0, 51)\n",
    "y = runge(x)\n",
    "# Equally-spaced nodes and data for n=5\n",
    "xdata1 = np.linspace(-5.0, 5.0, 6)\n",
    "ydata1 = runge(xdata1)\n",
    "# Equally-spaced nodes and data for n=10\n",
    "xdata2 = np.linspace(-5.0, 5.0, 11)\n",
    "ydata2 = runge(xdata2)\n",
    "print(xdata2, ydata2)\n"
   ]
  },
  {
   "cell_type": "code",
   "execution_count": 8,
   "metadata": {
    "slideshow": {
     "slide_type": "subslide"
    }
   },
   "outputs": [
    {
     "data": {
      "image/png": "[encoded data removed]",
      "text/plain": [
       "<Figure size 432x288 with 1 Axes>"
      ]
     },
     "metadata": {
      "needs_background": "light"
     },
     "output_type": "display_data"
    }
   ],
   "source": [
    "# plot true function values\n",
    "plt.plot(x, y, '-', label='true function', linewidth=4)\n",
    "\n",
    "# plot n=5 data and interpolation on 'x'\n",
    "plt.plot(xdata1, ydata1, 'd', label='n=5 data', markersize=15)\n",
    "plt.plot(x, LagrangeInterp(xdata1, ydata1, x), 'o-', label='n=5 interp')\n",
    "\n",
    "# plot n=10 data and interpolation on 'x'\n",
    "plt.plot(xdata2, ydata2, 'x', label='n=10 data', markersize=10)\n",
    "plt.plot(x, LagrangeInterp(xdata2, ydata2, x), 's-', label='n=10 interp')\n",
    "\n",
    "# add legends and show.\n",
    "plt.legend(loc=(1.01,0.65))\n",
    "plt.show()"
   ]
  },
  {
   "cell_type": "markdown",
   "metadata": {
    "slideshow": {
     "slide_type": "slide"
    }
   },
   "source": [
    "## Stability of polynomial interpolation\n",
    "For a set of function values $\\{\\tilde{f}(x_{i}) \\}$ which is a perturbation of the data $\\{ f(x_{i}) \\}$ relative to the nodes $x_{i}$'s in an interval $[a,b]$, we get the following result:\n",
    "\\begin{equation}\n",
    "\\begin{split}\n",
    "  \\lVert \\Pi_{n}f - \\Pi_{n}\\tilde{f} \\rVert_{\\infty} &= \\max_{a \\le x \\le b} \\left| \\sum_{j=0}^{n} \\left( f(x_{j})-\\tilde{f}(x_{j}) \\right) l_{j}(x) \\right| \\\\\n",
    "  & \\le \\Lambda_{n}(X) \\max_{i=0,\\ldots,n} \\left| f(x_{i}) - \\tilde{f}(x_{i}) \\right|,\n",
    "\\end{split}\n",
    "\\end{equation}\n",
    "where $\\lVert \\cdot \\rVert_{\\infty}$ is the maximum norm, $\\lVert f \\rVert_{\\infty} = \\max_{x\\in [a,b]} \\lVert f(x) \\rVert$, $X$ is a lower triangular matrix of the infinite-size *interpolation matrix* on $[a,b]$, and $\\Lambda_{n}(X)$ is the Lebesque constant of X, defined as $\\Lambda_{n}(X) = \\lVert \\sum_{j=0}^{n} \\lvert l_{j}^{(n)} \\rvert \\rVert_{\\infty} $.\n"
   ]
  },
  {
   "cell_type": "markdown",
   "metadata": {
    "slideshow": {
     "slide_type": "subslide"
    }
   },
   "source": [
    "The main point is that for **equally spaced nodes**,\n",
    "\\begin{equation}\n",
    "\\Lambda_{n}(X) \\approx \\frac{2^{n+1}}{e\\,n\\,\\log n},\n",
    "\\end{equation}\n",
    "which can be **large for a large $n$**.\n",
    "\n",
    "Since $\\Lambda_{n}(X)$ is essentially a *condition number*, we conclude that the polynomial interpolation can be **unstable** for **equally spaced nodes** and **large $n$**."
   ]
  },
  {
   "cell_type": "code",
   "execution_count": 9,
   "metadata": {
    "slideshow": {
     "slide_type": "subslide"
    }
   },
   "outputs": [
    {
     "data": {
      "text/plain": [
       "Text(0, 0.5, '$\\\\Lambda_{n}$')"
      ]
     },
     "execution_count": 9,
     "metadata": {},
     "output_type": "execute_result"
    },
    {
     "data": {
      "image/png": "[encoded data removed]",
      "text/plain": [
       "<Figure size 432x288 with 1 Axes>"
      ]
     },
     "metadata": {
      "needs_background": "light"
     },
     "output_type": "display_data"
    }
   ],
   "source": [
    "n = np.linspace(2,10,dtype=\"int\")\n",
    "plt.plot(n,np.power(2.0,n+1)/(np.e*n*np.log(n)))\n",
    "plt.xlabel('n')\n",
    "plt.ylabel('$\\Lambda_{n}$')"
   ]
  },
  {
   "cell_type": "markdown",
   "metadata": {
    "slideshow": {
     "slide_type": "subslide"
    }
   },
   "source": [
    "#### Example\n",
    "\\begin{equation}\n",
    "f(x) = \\sin(2\\pi x) \\quad \\text{on} \\quad [-1,1]\n",
    "\\end{equation}\n",
    "Data $f(x_{i})$ and perturbed data $\\tilde{f}(x_{i})$ are generated on equally spaced nodes for $n=21$ such that $\\vert f(x_{i})-\\tilde{f}(x_{i}) \\vert \\approx 9.5 \\times 10^{-4}$. By computing $\\Pi_{21}f$ and $\\Pi_{21}\\bar{f}$, we get \n",
    "\\begin{equation}\n",
    "\\Vert \\Pi_{21}f-\\Pi_{21}\\tilde{f} \\Vert_{\\infty} \\approx 2.1635 \\quad \\text{and} \\quad \\Lambda_{21} \\approx 24000.\n",
    "\\end{equation}\n",
    "\n",
    "<img src=\"./Figures/Quarteroni_Fig8.3.PNG\" width=400 />"
   ]
  },
  {
   "cell_type": "markdown",
   "metadata": {
    "slideshow": {
     "slide_type": "slide"
    }
   },
   "source": [
    "## Piecewise Lagrange Interpolation\n",
    "Although unstable for a large number of equally spaced nodes, we do not simply throw out the Lagrange interpolation because\n",
    "\n",
    "- Lagrange interpolation of a low degree is sufficiently accurate; and\n",
    "- equally spaced nodes are convenient.\n",
    "\n",
    "The solution is the **piecewise low-degree** Lagrange interpolation on **equally spaced nodes**.\n",
    "\n",
    "The other solution would be to give up equally spaced nodes to go to high-degree polynomials. We will learn more about this idea later.\n"
   ]
  },
  {
   "cell_type": "markdown",
   "metadata": {
    "slideshow": {
     "slide_type": "subslide"
    }
   },
   "source": [
    "Let's consider a partition of $[a,b]$,\n",
    "\n",
    "\\begin{equation}\n",
    "\\mathcal{T}_{h}[a,b] = \\left\\{ I_{j}=[x_{j},x_{j+1}] \\,|\\, [a,b] = \\cup_{j=0}^{K-1}\\,I_{j}\n",
    "\\ \\text{with}\\ h=\\max_{0\\le j\\le K-1}h_{j} \\ \\text{and}\\ h_{j}=x_{j+1}-x_{j} \\right\\}\n",
    "\\end{equation}\n",
    "\n"
   ]
  },
  {
   "cell_type": "markdown",
   "metadata": {
    "slideshow": {
     "slide_type": "subslide"
    }
   },
   "source": [
    "For $k\\ge 1$, the **piecewise polynomial space** is defined as\n",
    "\n",
    "\\begin{equation}\n",
    "X_{h}^{k} = \\left\\{ v\\in C^{0}([a,b]) \\,|\\, v|_{I_{j}} \\in \\mathbb{P}_{k}(I_{j})\\ \\text{for}\\  ^{\\forall}I_{j} \\in \\mathcal{T}_{h} \\right\\},\n",
    "\\end{equation}\n",
    "\n",
    "where $C^{0}([a,b])$ is a space of **continuous function** on $[a,b]$ and $\\mathbb{P}_{k}(I_{j})$ is a space of **polynomials of degree $\\le k$** on the interval $I_{j}$.\n",
    "\n"
   ]
  },
  {
   "cell_type": "markdown",
   "metadata": {
    "slideshow": {
     "slide_type": "subslide"
    }
   },
   "source": [
    "The point of the above definition is that, for any continuous function $f$ in $[a,b]$, the **piecewise interpolation polynomial** $\\Pi_{h}^{k}f \\in X_{h}^{k}$ coincides on each $I_{j}$ with the restriction of $f$ on $I_{j}$ at the $n+1$ nodes, $\\{ x_{j}^{(i)},\\ 0\\le i\\le n\\}$.\n"
   ]
  },
  {
   "cell_type": "markdown",
   "metadata": {
    "slideshow": {
     "slide_type": "subslide"
    }
   },
   "source": [
    "#### Example\n",
    "Let's revisit Runge's counter-example.\n"
   ]
  },
  {
   "cell_type": "code",
   "execution_count": 4,
   "metadata": {
    "slideshow": {
     "slide_type": "subslide"
    }
   },
   "outputs": [
    {
     "ename": "NameError",
     "evalue": "name 'runge' is not defined",
     "output_type": "error",
     "traceback": [
      "\u001b[0;31m---------------------------------------------------------------------------\u001b[0m",
      "\u001b[0;31mNameError\u001b[0m                                 Traceback (most recent call last)",
      "Input \u001b[0;32mIn [4]\u001b[0m, in \u001b[0;36m<cell line: 3>\u001b[0;34m()\u001b[0m\n\u001b[1;32m      1\u001b[0m \u001b[38;5;66;03m# Store interpolation points (x) and the true function values (y)\u001b[39;00m\n\u001b[1;32m      2\u001b[0m x \u001b[38;5;241m=\u001b[39m np\u001b[38;5;241m.\u001b[39mlinspace(\u001b[38;5;241m-\u001b[39m\u001b[38;5;241m5.0\u001b[39m, \u001b[38;5;241m5.0\u001b[39m, \u001b[38;5;241m51\u001b[39m)\n\u001b[0;32m----> 3\u001b[0m y \u001b[38;5;241m=\u001b[39m \u001b[43mrunge\u001b[49m(x)\n\u001b[1;32m      4\u001b[0m \u001b[38;5;66;03m# plot true function values\u001b[39;00m\n\u001b[1;32m      5\u001b[0m plt\u001b[38;5;241m.\u001b[39mplot(x, y, \u001b[38;5;124m'\u001b[39m\u001b[38;5;124mk-\u001b[39m\u001b[38;5;124m'\u001b[39m, label\u001b[38;5;241m=\u001b[39m\u001b[38;5;124m'\u001b[39m\u001b[38;5;124mtrue function\u001b[39m\u001b[38;5;124m'\u001b[39m, linewidth\u001b[38;5;241m=\u001b[39m\u001b[38;5;241m4\u001b[39m)\n",
      "\u001b[0;31mNameError\u001b[0m: name 'runge' is not defined"
     ]
    }
   ],
   "source": [
    "# Store interpolation points (x) and the true function values (y)\n",
    "x = np.linspace(-5.0, 5.0, 51)\n",
    "y = runge(x)\n",
    "# plot true function values\n",
    "plt.plot(x, y, 'k-', label='true function', linewidth=4)\n",
    "\n",
    "# K=2 (2 intervals)\n",
    "K=2\n",
    "# k=1\n",
    "x0 = np.linspace(-5.0, 0.0, 26)\n",
    "xdata0 = np.linspace(-5.0, 0.0, 2)\n",
    "ydata0 = runge(xdata0)\n",
    "x1 = np.linspace(0.0, 5.0, 26)\n",
    "xdata1 = np.linspace(0.0, 5.0, 2)\n",
    "ydata1 = runge(xdata1)\n",
    "plt.plot(xdata0, ydata0, 'gd', label='K=2, k=1 data', markersize=15)\n",
    "plt.plot(xdata1, ydata1, 'gd', markersize=15)\n",
    "plt.plot(x0, LagrangeInterp(xdata0, ydata0, x0), 'go-', label='K=2, k=1 interp')\n",
    "plt.plot(x1, LagrangeInterp(xdata1, ydata1, x1), 'go-')\n",
    "\n",
    "# k=2\n",
    "xdata2 = np.linspace(-5.0, 0.0, 3)\n",
    "ydata2 = runge(xdata2)\n",
    "xdata3 = np.linspace(0.0, 5.0, 3)\n",
    "ydata3 = runge(xdata3)\n",
    "plt.plot(xdata2, ydata2, 'ro', label='K=2, k=2 data', markersize=12)\n",
    "plt.plot(xdata3, ydata3, 'ro', markersize=12)\n",
    "plt.plot(x0, LagrangeInterp(xdata2, ydata2, x0), 'ro-', label='K=2, k=2 interp')\n",
    "plt.plot(x1, LagrangeInterp(xdata3, ydata3, x1), 'ro-')\n",
    "\n",
    "# add legends and show.\n",
    "plt.legend(loc=(1.01,0.65))\n",
    "#plt.show()\n",
    "\n",
    "# plt.savefig('./K2_Runge_Interp.png', dpi=640, bbox_inches = \"tight\")"
   ]
  },
  {
   "cell_type": "markdown",
   "metadata": {
    "slideshow": {
     "slide_type": "subslide"
    }
   },
   "source": [
    "<img src=\"./Figures/K2_Runge_Interp.png\" width=600></img>"
   ]
  },
  {
   "cell_type": "markdown",
   "metadata": {
    "slideshow": {
     "slide_type": "slide"
    }
   },
   "source": [
    "## Extension to the higher dimensions\n",
    "\n",
    "Extension of polynomial interpolation to 2D is particularly simple.\n",
    "\n",
    "When $\\Omega = [a,b]\\times[c,d]$ with nodes\n",
    "\n",
    "\\begin{equation}\n",
    "\\begin{split}\n",
    "a=x_{0} \\lt x_{1} \\lt \\cdots \\lt x_{n} = b, \\\\\n",
    "c=y_{0} \\lt y_{1} \\lt \\cdots \\lt y_{m} = d,\n",
    "\\end{split}\n",
    "\\end{equation}\n",
    "interpolation polynomial $\\Pi_{n,m}f$ of $f(x,y)$ is given as\n",
    "\n",
    "\\begin{equation}\n",
    "\\Pi_{n,m}f(x,y) = \\sum_{i=0}^{n}\\sum_{j=0}^{m} \\alpha_{ij} l_{i}(x) l_{j}(y),\n",
    "\\end{equation}\n",
    "where $l_{i}\\in \\mathbb{P}_{n}$ with $i=0,1,\\cdots,n$, $l_{j} \\in \\mathbb{P}_{m}$ with $j=0,1,\\cdots,m$ and $\\alpha_{ij} = f(x_{i},y_{j})$.\n",
    "\n",
    "However, the drawbacks of 1D Lagrangian interpolation are inherited."
   ]
  },
  {
   "cell_type": "markdown",
   "metadata": {
    "slideshow": {
     "slide_type": "subslide"
    }
   },
   "source": [
    "<img src=\"./Figures/Quarteroni_Fig8.5.PNG\" width=800 />"
   ]
  },
  {
   "cell_type": "markdown",
   "metadata": {
    "slideshow": {
     "slide_type": "subslide"
    }
   },
   "source": [
    "## Piecewise polynomial interpolation in 2D\n",
    "\n",
    "- Can have low-degree polynomials on equally spaced nodes.\n",
    "- More flexible and useful for domains of complex shape.\n",
    "\n",
    "This technique is developed as follows:\n",
    "\n",
    "- $\\Omega$ is a polygon in $\\mathbb{R}^{2}$ and partitioned into $K$ non-overlapping triangles (or \"elements\"), $T$.\n",
    "The partition is denoted by $\\mathcal{T}_{h}$ and also called **triangulation** of the domain.\n",
    "- The above notation of a triangulation means that the maximum edge length of any $T$ is $\\le h$.\n",
    "- $\\bar{\\Omega}=\\cup_{T\\in\\mathcal{T}_{h}} T$. The bar symbol means the *closure* of a set, which is the union of the interior and the boundary.\n",
    "- **Admissable** $\\mathcal{T}_{h}$ is the one where any pair of non-disjoint $T$'s may have a vertex or an edge in common.\n"
   ]
  },
  {
   "cell_type": "markdown",
   "metadata": {
    "slideshow": {
     "slide_type": "subslide"
    }
   },
   "source": [
    "- Admmisable triangulations (Fig. 8.6 of Quarteroni, 2000)\n",
    "\n",
    "    <img src=\"./Figures/Quarteroni_Fig8.6a.PNG\" width=400 />\n",
    "- Non-admissable triangulations (Fig. 8.6 of Quarteroni, 2000)\n",
    "    \n",
    "    <img src=\"./Figures/Quarteroni_Fig8.6b.PNG\" width=400 />\n",
    "    "
   ]
  },
  {
   "cell_type": "markdown",
   "metadata": {
    "slideshow": {
     "slide_type": "slide"
    }
   },
   "source": [
    "### Mapping of reference triangle\n",
    "Now, it will prove extremely useful to realize that $^{\\forall}T \\in \\mathcal{T}_{h}A$ can be considered as an image of the reference triangle $\\hat{T}$ through the affine map\n",
    "\n",
    "\\begin{equation}\n",
    "\\mathbf{x} = \\mathbf{F}_{T}(\\hat{\\mathbf{x}}) = \\mathbf{B}_{T} \\hat{\\mathbf{x}} + \\mathbf{b}_{T},\n",
    "\\end{equation}\n",
    "where $\\hat{\\boldsymbol{x}} = (\\hat{x},\\hat{y})$.\n",
    "\n",
    "<img src=\"./Figures/Quarteroni_Fig8.6c.PNG\" width=400 />\n",
    "(Fig. 8.6, Quarteroni, 2000)\n"
   ]
  },
  {
   "cell_type": "markdown",
   "metadata": {
    "slideshow": {
     "slide_type": "subslide"
    }
   },
   "source": [
    "If three vertices of $T$ are denoted as\n",
    "\\begin{equation}\n",
    "\\mathbf{a}_{i}^{T} = \n",
    "\\begin{pmatrix}\n",
    "x_{i} \\\\\n",
    "y_{i}\n",
    "\\end{pmatrix}\n",
    "\\end{equation}\n",
    "for $i=1,2,3$,\n",
    "\n",
    "we get\n",
    "\\begin{equation}\n",
    "\\mathbf{B}_{T} = \n",
    "\\begin{pmatrix}\n",
    "x_{2}-x_{1} & x_{3}-x_{1} \\\\\n",
    "y_{2}-y_{1} & y_{3}-y_{1}\n",
    "\\end{pmatrix}\n",
    "\\end{equation}\n",
    "\n",
    "and\n",
    "\n",
    "\\begin{equation}\n",
    "\\mathbf{b}^{T} = \n",
    "\\begin{pmatrix}\n",
    "x_{1} \\\\\n",
    "y_{1}\n",
    "\\end{pmatrix}\n",
    "\\end{equation}\n"
   ]
  },
  {
   "cell_type": "markdown",
   "metadata": {
    "slideshow": {
     "slide_type": "slide"
    }
   },
   "source": [
    "## Piecewise polynomial on a triangulation\n",
    "Let's denote the set of the interpolation nodes as $\\mathcal{Z}$:\n",
    "\n",
    "\\begin{equation}\n",
    "\\mathcal{Z} = \n",
    "\\begin{Bmatrix}\n",
    "\\mathbf{z}_{i} \\vert \\mathbf{z}_{i} = (x_{i},y_{i})^{T}, i=1,\\ldots,N\n",
    "\\end{Bmatrix}.\n",
    "\\end{equation}\n",
    "\n",
    "Then we can construct\n",
    "\n",
    "\\begin{equation}\n",
    "\\mathbb{P}_{k}(\\Omega) = \n",
    "\\begin{Bmatrix} \n",
    "p(x,y) = \\sum_{i,j=0\\\\i+j\\le k}^{k} a_{ij} x^{i} y^{j}, x, y \\in \\Omega\n",
    "\\end{Bmatrix}.\n",
    "\\end{equation}\n",
    "\n",
    "For $k \\ge 0$, $\\mathbb{P}_{k}^{c}(\\Omega)$, the space of **piecewise polynomials of degree $\\le k$** can be defined as\n",
    "\\begin{equation}\n",
    "^{\\forall}p \\in \\mathbb{P}_{k}^{c}(\\Omega), \\quad p\\vert_{T} \\in \\mathbb{P}_{k}(T)\\ \\text{for}\\ ^{\\forall}T \\in \\mathcal{T}_{h}. \n",
    "\\end{equation}\n"
   ]
  },
  {
   "cell_type": "markdown",
   "metadata": {
    "slideshow": {
     "slide_type": "subslide"
    }
   },
   "source": [
    "#### Example\n",
    "\\begin{equation}\n",
    "p \\in \\mathbb{P}_{1}(\\Omega) = a_{00} + a_{10} x + a_{01} y.\n",
    "\\end{equation}\n",
    "\n",
    "\\begin{equation}\n",
    "q \\in \\mathbb{Q}_{1}(\\Omega) = \\Pi_{11} f = \\alpha_{00}\\, l_{0}(x) l_{0}(y) + \\alpha_{10}\\, l_{1}(x) l_{0}(y) + \\alpha_{01}\\, l_{0}(x) l_{1}(y) + \\alpha_{11}\\, l_{1}(x) l_{1}(y).\n",
    "\\end{equation}\n"
   ]
  },
  {
   "cell_type": "markdown",
   "metadata": {
    "slideshow": {
     "slide_type": "slide"
    }
   },
   "source": [
    "### Lagrange characteristic polynomials\n",
    "\n",
    "An elementary basis for $\\mathbb{P}_{k}^{c}(\\Omega)$ consists of the **Lagrange characteristic polynomials**, $l_{i}=l_{i}(x,y)$ such that \n",
    "\\begin{equation}\n",
    "l_{i} \\in \\mathbb{P}_{k}^{c}(\\Omega) \\quad \\text{and} \\quad l_{i}(\\mathbf{z}_{j}) = \\delta_{ij},\n",
    "\\end{equation}\n",
    "where $i$ and $j$ are indexes for interpolation nodes.\n",
    "\n",
    "<image src=\"./Figures/Quarteroni_Fig8.7.PNG\" width=640 />\n"
   ]
  },
  {
   "cell_type": "markdown",
   "metadata": {
    "slideshow": {
     "slide_type": "subslide"
    }
   },
   "source": [
    "#### Exercise\n",
    "Let's say $T \\in \\mathcal{T}_{h}$ is composed of three interpolating nodes, $\\mathbf{z}_{7}$, $\\mathbf{z}_{9}$, and $\\mathbf{z}_{19}$. The coordinates of the three nodes are $(2,3)$, $(4,4)$ and $(3,5)$. Find $l_{7,T}(x,y)$, $l_{9,T}(x,y)$ and $l_{19,T}(x,y)$."
   ]
  },
  {
   "cell_type": "markdown",
   "metadata": {
    "slideshow": {
     "slide_type": "subslide"
    }
   },
   "source": [
    "### Putting them all together\n",
    "\n",
    "Finally, the **Lagrange piecewise interpolating polynomial** of $f$, $\\Pi_{h}^{k}f \\in \\mathbb{P}_{k}^{c}(\\Omega)$ is defined as\n",
    "\n",
    "\\begin{equation}\n",
    "\\Pi_{h}^{k}f(x,y) = \\sum_{i=1}^{N} f(\\mathbf{z}_{i}) l_{i}(x,y).\n",
    "\\end{equation}\n",
    "\n",
    "- $\\Pi_{h}^{0}f(x,y)$: Piecewise constant\n",
    "- $\\Pi_{h}^{1}f(x,y)$: Piecewise linear over each $T$ and continuous on vertices; thus globally continuous.\n",
    "\n"
   ]
  },
  {
   "cell_type": "markdown",
   "metadata": {
    "slideshow": {
     "slide_type": "subslide"
    }
   },
   "source": [
    "For any $T \\in \\mathcal{T}_{h}$, $\\Pi_{T}^{k}f$ is the restriction of $\\Pi_{h}^{k}f$ on $T$ such that\n",
    "\\begin{equation}\n",
    "\\Pi_{T}^{k}f(x,y) = \\sum_{m=0}^{d_{k}-1} f(\\mathbf{z}_{T}^{(m)}) l_{m,T}(x,y)\\ ^{\\forall}T \\in \\mathcal{T}_{h},\n",
    "\\end{equation}\n",
    "\n",
    "In the above definition, $d_{k} = (k+1)(k+2)/2$:\n",
    "\n",
    "- $k=0$, $d_{0}=1$\n",
    "- $k=1$, $d_{0}=3$\n",
    "- $k=2$, $d_{0}=6$\n",
    "    \n",
    "<img src=\"./Figures/Quarteroni_Fig8.8.PNG\" width=640 />\n"
   ]
  },
  {
   "cell_type": "markdown",
   "metadata": {
    "slideshow": {
     "slide_type": "subslide"
    }
   },
   "source": [
    "\n",
    "And $l_{m,T}$ is given as\n",
    "\\begin{equation}\n",
    "\\begin{split}\n",
    "l_{m,T}(x,y) &= \\hat{l}_{m,\\hat{T}} \\circ \\mathbf{F}_{T}^{-1}(x,y) \\\\\n",
    "             &= \\hat{l}_{m}(\\hat{x},\\hat{y}).\n",
    "\\end{split}\n",
    "\\end{equation}\n",
    "Since we know everything about the reference triangle, $\\hat{l}_{m}$ are also completely known. All we need to know to evaluate $l_{m,T}(x,y)$ is to know $(\\hat{x},\\hat{y})$ corresponding to $(x,y)$."
   ]
  },
  {
   "cell_type": "markdown",
   "metadata": {
    "slideshow": {
     "slide_type": "subslide"
    }
   },
   "source": [
    "#### Example\n",
    "For $k=1$, let's find $\\hat{l}_{0}(\\hat{x},\\hat{y})$.\n",
    "\n",
    "$\\hat{l}_{0}(\\hat{x},\\hat{y}) = a_{00} + a_{10}\\,\\hat{x} + a_{01}\\,\\hat{y}$ and we need to determine the coefficients, $a_{ij}$'s using the property of the characteristic polynomial: i.e.,\n",
    "\\begin{align}\n",
    "\\hat{l}_{0}(0,0) &= 1 = a_{00} \\\\ \n",
    "\\hat{l}_{0}(1,0) &= 1 + a_{10} = 0 \\rightarrow a_{10} = -1 \\\\ \n",
    "\\hat{l}_{0}(0,1) &= 1 + a_{01} = 0 \\rightarrow a_{01} = -1 \\\\ \n",
    "\\end{align}\n",
    "So, $\\hat{l}_{0}(\\hat{x},\\hat{y}) = 1 - \\hat{x} - \\hat{y}$."
   ]
  },
  {
   "cell_type": "code",
   "execution_count": 3,
   "metadata": {
    "slideshow": {
     "slide_type": "subslide"
    }
   },
   "outputs": [
    {
     "data": {
      "text/plain": [
       "<mpl_toolkits.mplot3d.art3d.Line3DCollection at 0x7fc980720a30>"
      ]
     },
     "execution_count": 3,
     "metadata": {},
     "output_type": "execute_result"
    },
    {
     "data": {
      "image/png": "[encoded data removed]",
      "text/plain": [
       "<Figure size 432x288 with 1 Axes>"
      ]
     },
     "metadata": {
      "needs_background": "light"
     },
     "output_type": "display_data"
    }
   ],
   "source": [
    "from mpl_toolkits.mplot3d import axes3d\n",
    "\n",
    "x = np.linspace(0,1,51)\n",
    "y = np.linspace(0,1,51)\n",
    "X,Y = np.meshgrid(x,y)\n",
    "Z = 1.0-X-Y # evaluation of the function on the grid\n",
    "Zeros = X-X\n",
    "\n",
    "fig = plt.figure()\n",
    "ax = fig.add_subplot(111, projection='3d')\n",
    "ax.plot_surface(X,Y,Zeros, color=\"white\")\n",
    "ax.plot_wireframe(X,Y,Z, rstride=5, cstride=5)\n"
   ]
  },
  {
   "cell_type": "markdown",
   "metadata": {
    "slideshow": {
     "slide_type": "subslide"
    }
   },
   "source": [
    "In practice, to evaluate $l_{m,T}(x,y)$ and complete the piecewise Lagrangian interpolation function,\n",
    "\n",
    "\\begin{equation}\n",
    "\\Pi_{T}^{k}f(x,y) = \\sum_{m=0}^{d_{k}-1} f(\\mathbf{z}_{T}^{(m)}) l_{m,T}(x,y)\\ ^{\\forall}T \\in \\mathcal{T}_{h},\n",
    "\\end{equation}\n",
    "\n",
    "we need to find a triangle, $T$, that contains the point $(x,y)$.\n",
    "\n",
    "Recall that \n",
    "\\begin{equation}\n",
    "\\mathbf{x} = \\mathbf{F}_{T}(\\hat{\\mathbf{x}}) = \\mathbf{B}_{T} \\hat{\\mathbf{x}} + \\mathbf{b}_{T}.\n",
    "\\end{equation}\n",
    "From this,\n",
    "\\begin{equation}\n",
    "\\hat{\\mathbf{x}} = \\mathbf{B}_{T}^{-1} (\\mathbf{x} - \\mathbf{b}_{T}).\n",
    "\\end{equation}\n"
   ]
  }
 ],
 "metadata": {
  "celltoolbar": "Slideshow",
  "kernelspec": {
   "display_name": "Python 3 (ipykernel)",
   "language": "python",
   "name": "python3"
  },
  "language_info": {
   "codemirror_mode": {
    "name": "ipython",
    "version": 3
   },
   "file_extension": ".py",
   "mimetype": "text/x-python",
   "name": "python",
   "nbconvert_exporter": "python",
   "pygments_lexer": "ipython3",
   "version": "3.9.12"
  },
  "vscode": {
   "interpreter": {
    "hash": "916dbcbb3f70747c44a77c7bcd40155683ae19c65e1c03b4aa3499c5328201f1"
   }
  }
 },
 "nbformat": 4,
 "nbformat_minor": 4
}
